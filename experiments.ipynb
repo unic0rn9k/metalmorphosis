{
 "cells": [
  {
   "cell_type": "code",
   "execution_count": 2,
   "id": "14b3bd16",
   "metadata": {
    "vscode": {
     "languageId": "rust"
    }
   },
   "outputs": [],
   "source": [
    "#[derive(Clone, Copy)]\n",
    "enum DiffNode<'a>{\n",
    "    Add(&'a DiffNode<'a>, &'a DiffNode<'a>),\n",
    "    Sub(&'a DiffNode<'a>, &'a DiffNode<'a>),\n",
    "    Mul(&'a DiffNode<'a>, &'a DiffNode<'a>),\n",
    "    Div(&'a DiffNode<'a>, &'a DiffNode<'a>),\n",
    "    Value(f32),\n",
    "    WithSymbol(&'a DiffNode<'a>, &'static str),\n",
    "}\n",
    "use DiffNode::*;\n",
    "\n",
    "impl<'a> DiffNode<'a>{\n",
    "    fn has_symbol(&'a self, symbol: &'static str) -> bool{\n",
    "        if let WithSymbol(_, sym) = self{\n",
    "            sym==&symbol\n",
    "        }else{false}\n",
    "    }\n",
    "\n",
    "    fn eval(&'a self) -> f32{\n",
    "        match self{\n",
    "            Add(a, b) => a.eval() + b.eval(),\n",
    "            Sub(a, b) => a.eval() - b.eval(),\n",
    "            Mul(a, b) => a.eval() * b.eval(),\n",
    "            Div(a, b) => a.eval() / b.eval(),\n",
    "            Value(v) => *v,\n",
    "            WithSymbol(n, _) => n.eval()\n",
    "        }\n",
    "    }\n",
    "    \n",
    "    fn derivative(&'a self, x: &'static str) -> f32{\n",
    "        match self{\n",
    "            Add(a, b) => a.derivative(x) + b.derivative(x),\n",
    "            Sub(a, b) => a.derivative(x) + -b.derivative(x),\n",
    "            Mul(a, b) => a.derivative(x) * b.eval() + b.derivative(x) * a.eval(),\n",
    "            \n",
    "            // WRONG!\n",
    "            Div(a, b) => a.derivative(x) / b.eval() - b.derivative(x) / a.eval(),\n",
    "            \n",
    "            Value(_) => 0.,\n",
    "            WithSymbol(inner, sym) => if sym == &x{1.}else{inner.derivative(sym)}\n",
    "        }\n",
    "    }\n",
    "    \n",
    "    fn with_symbol(&'a self, sym: &'static str) -> Self{\n",
    "        WithSymbol(self, sym)\n",
    "    }\n",
    "}"
   ]
  },
  {
   "cell_type": "code",
   "execution_count": 3,
   "id": "3c8956a4",
   "metadata": {
    "vscode": {
     "languageId": "rust"
    }
   },
   "outputs": [
    {
     "name": "stdout",
     "output_type": "stream",
     "text": [
      "5\n"
     ]
    }
   ],
   "source": [
    "let x = Value(2.).with_symbol(\"x\");\n",
    "\n",
    "let y = Sub(&Add(&Value(1.), &Mul(&Add(&x, &Value(2.)), &Add(&Value(3.), &Value(3.)))), &x).derivative(\"x\");\n",
    "\n",
    "println!(\"{y}\");"
   ]
  },
  {
   "cell_type": "code",
   "execution_count": 8,
   "id": "7938a7f8",
   "metadata": {
    "vscode": {
     "languageId": "rust"
    }
   },
   "outputs": [
    {
     "ename": "Error",
     "evalue": "`for` is not allowed in a `const`",
     "output_type": "error",
     "traceback": [
      "\u001b[31m[E0658] Error:\u001b[0m `for` is not allowed in a `const`",
      "    \u001b[38;5;246m╭\u001b[0m\u001b[38;5;246m─\u001b[0m\u001b[38;5;246m[\u001b[0mcommand_8:1:1\u001b[38;5;246m]\u001b[0m",
      "    \u001b[38;5;246m│\u001b[0m",
      " \u001b[38;5;246m12 │\u001b[0m \u001b[38;5;249m \u001b[0m\u001b[38;5;249m \u001b[0m\u001b[38;5;249m \u001b[0m\u001b[38;5;249m \u001b[0m\u001b[38;5;249mc\u001b[0m\u001b[38;5;249mo\u001b[0m\u001b[38;5;249mn\u001b[0m\u001b[38;5;249ms\u001b[0m\u001b[38;5;249mt\u001b[0m\u001b[38;5;249m \u001b[0m\u001b[38;5;249m{\u001b[0m\u001b[38;5;54mf\u001b[0m\u001b[38;5;54mo\u001b[0m\u001b[38;5;54mr\u001b[0m\u001b[38;5;54m \u001b[0m\u001b[38;5;54m_\u001b[0m\u001b[38;5;54m \u001b[0m\u001b[38;5;54mi\u001b[0m\u001b[38;5;54mn\u001b[0m\u001b[38;5;54m \u001b[0m\u001b[38;5;54m0\u001b[0m\u001b[38;5;54m.\u001b[0m\u001b[38;5;54m.\u001b[0m\u001b[38;5;54m1\u001b[0m\u001b[38;5;54m0\u001b[0m\u001b[38;5;54m{\u001b[0m\u001b[38;5;54m}\u001b[0m\u001b[38;5;249m}\u001b[0m\u001b[38;5;249m;\u001b[0m",
      " \u001b[38;5;246m   ·\u001b[0m            \u001b[38;5;54m─\u001b[0m\u001b[38;5;54m─\u001b[0m\u001b[38;5;54m─\u001b[0m\u001b[38;5;54m─\u001b[0m\u001b[38;5;54m─\u001b[0m\u001b[38;5;54m─\u001b[0m\u001b[38;5;54m─\u001b[0m\u001b[38;5;54m─\u001b[0m\u001b[38;5;54m┬\u001b[0m\u001b[38;5;54m─\u001b[0m\u001b[38;5;54m─\u001b[0m\u001b[38;5;54m─\u001b[0m\u001b[38;5;54m─\u001b[0m\u001b[38;5;54m─\u001b[0m\u001b[38;5;54m─\u001b[0m\u001b[38;5;54m─\u001b[0m  ",
      " \u001b[38;5;246m   ·\u001b[0m                    \u001b[38;5;54m╰\u001b[0m\u001b[38;5;54m─\u001b[0m\u001b[38;5;54m─\u001b[0m\u001b[38;5;54m─\u001b[0m\u001b[38;5;54m─\u001b[0m\u001b[38;5;54m─\u001b[0m\u001b[38;5;54m─\u001b[0m\u001b[38;5;54m─\u001b[0m\u001b[38;5;54m─\u001b[0m\u001b[38;5;54m─\u001b[0m error: `for` is not allowed in a `const`",
      "\u001b[38;5;246m────╯\u001b[0m"
     ]
    }
   ],
   "source": [
    "#![feature(type_name_of_val, inline_const)]\n",
    "fn bruh(){}\n",
    "std::any::type_name_of_val(&std::any::type_name_of_val::<u8>);\n",
    "\n",
    "fn name(v: &dyn std::any::Any){\n",
    "    println!(\"{}\", std::any::type_name_of_val(v))\n",
    "}\n",
    "\n",
    "name(&\"bruh\");\n",
    "\n",
    "fn is_closure<'a>(name: &'a str) -> bool{\n",
    "    //const {for _ in 0..10{}};\n",
    "    const CLOSURE: &str = \"{{closure}}\";\n",
    "    &name[name.len()-CLOSURE.len()..] == CLOSURE\n",
    "}\n",
    "\n",
    "println!(\"{}\", is_closure(std::any::type_name_of_val(&||true)));\n",
    "println!(\"{}\", std::any::type_name_of_val(&||false));\n",
    "&\"okok\"[2..]"
   ]
  },
  {
   "cell_type": "code",
   "execution_count": 5,
   "id": "e357a31e",
   "metadata": {
    "vscode": {
     "languageId": "rust"
    }
   },
   "outputs": [
    {
     "data": {
      "text/plain": [
       "TypeId { t: 17966091366821032593 }"
      ]
     },
     "execution_count": 5,
     "metadata": {},
     "output_type": "execute_result"
    }
   ],
   "source": [
    "use std::any::Any;\n",
    "bruh.type_id()"
   ]
  },
  {
   "cell_type": "code",
   "execution_count": 6,
   "id": "89907ce9",
   "metadata": {
    "vscode": {
     "languageId": "rust"
    }
   },
   "outputs": [
    {
     "data": {
      "text/plain": [
       "20.0"
      ]
     },
     "execution_count": 6,
     "metadata": {},
     "output_type": "execute_result"
    }
   ],
   "source": [
    "trait SimpleVec<F>{\n",
    "    fn as_ref(&self) -> &[F];\n",
    "\n",
    "    // This should be moved to a `Dot` trait or smth\n",
    "    fn dot(&self, other: impl SimpleVec<F>) -> F where F: std::ops::Mul<F, Output=F> + std::iter::Sum + Copy{\n",
    "        self.as_ref().iter().zip(other.as_ref().iter()).map(|(a,b)| *a**b).sum()\n",
    "    }\n",
    "}\n",
    "\n",
    "impl SimpleVec<f32> for [f32]{\n",
    "    fn as_ref(&self) -> &[f32]{\n",
    "        self\n",
    "    }\n",
    "}\n",
    "\n",
    "impl<const LEN: usize> SimpleVec<f32> for [f32; LEN]{\n",
    "    fn as_ref(&self) -> &[f32]{\n",
    "        self\n",
    "    }\n",
    "}\n",
    "\n",
    "[1f32, 2., 3.].dot([2f32, 3., 4.])"
   ]
  }
 ],
 "metadata": {
  "kernelspec": {
   "display_name": "Rust",
   "language": "rust",
   "name": "rust"
  },
  "language_info": {
   "codemirror_mode": "rust",
   "file_extension": ".rs",
   "mimetype": "text/rust",
   "name": "Rust",
   "pygment_lexer": "rust",
   "version": ""
  }
 },
 "nbformat": 4,
 "nbformat_minor": 5
}
