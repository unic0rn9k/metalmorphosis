{
 "cells": [
  {
   "cell_type": "code",
   "execution_count": 11,
   "id": "5ac9aee4",
   "metadata": {},
   "outputs": [],
   "source": [
    "#[derive(Clone, Copy)]\n",
    "enum DiffNode<'a>{\n",
    "    Add(&'a DiffNode<'a>, &'a DiffNode<'a>),\n",
    "    Sub(&'a DiffNode<'a>, &'a DiffNode<'a>),\n",
    "    Mul(&'a DiffNode<'a>, &'a DiffNode<'a>),\n",
    "    Div(&'a DiffNode<'a>, &'a DiffNode<'a>),\n",
    "    Value(f32),\n",
    "    WithSymbol(&'a DiffNode<'a>, &'static str),\n",
    "}\n",
    "use DiffNode::*;\n",
    "\n",
    "impl<'a> DiffNode<'a>{\n",
    "    fn has_symbol(&'a self, symbol: &'static str) -> bool{\n",
    "        if let WithSymbol(_, sym) = self{\n",
    "            sym==&symbol\n",
    "        }else{false}\n",
    "    }\n",
    "\n",
    "    fn eval(&'a self) -> f32{\n",
    "        match self{\n",
    "            Add(a, b) => a.eval() + b.eval(),\n",
    "            Sub(a, b) => a.eval() - b.eval(),\n",
    "            Mul(a, b) => a.eval() * b.eval(),\n",
    "            Div(a, b) => a.eval() / b.eval(),\n",
    "            Value(v) => *v,\n",
    "            WithSymbol(n, _) => n.eval()\n",
    "        }\n",
    "    }\n",
    "    \n",
    "    fn derivative(&'a self, x: &'static str) -> f32{\n",
    "        match self{\n",
    "            Add(a, b) => a.derivative(x) + b.derivative(x),\n",
    "            Sub(a, b) => a.derivative(x) + -b.derivative(x),\n",
    "            Mul(a, b) => a.derivative(x) * b.eval() + b.derivative(x) * a.eval(),\n",
    "            \n",
    "            // WRONG!\n",
    "            Div(a, b) => 1./b.eval() * -a.eval()/b.eval(),\n",
    "            \n",
    "            Value(_) => 0.,\n",
    "            WithSymbol(inner, sym) => if sym == &x{1.}else{inner.derivative(sym)}\n",
    "        }\n",
    "    }\n",
    "    \n",
    "    fn with_symbol(&'a self, sym: &'static str) -> Self{\n",
    "        WithSymbol(self, sym)\n",
    "    }\n",
    "}"
   ]
  },
  {
   "cell_type": "code",
   "execution_count": 12,
   "id": "b918b31f",
   "metadata": {},
   "outputs": [
    {
     "name": "stdout",
     "output_type": "stream",
     "text": [
      "5\n"
     ]
    }
   ],
   "source": [
    "let x = Value(2.).with_symbol(\"x\");\n",
    "\n",
    "let y = Sub(&Add(&Value(1.), &Mul(&Add(&x, &Value(2.)), &Add(&Value(3.), &Value(3.)))), &x).derivative(\"x\");\n",
    "\n",
    "println!(\"{y}\");"
   ]
  },
  {
   "cell_type": "code",
   "execution_count": null,
   "id": "ce67546a",
   "metadata": {},
   "outputs": [],
   "source": []
  }
 ],
 "metadata": {
  "kernelspec": {
   "display_name": "Rust",
   "language": "rust",
   "name": "rust"
  },
  "language_info": {
   "codemirror_mode": "rust",
   "file_extension": ".rs",
   "mimetype": "text/rust",
   "name": "Rust",
   "pygment_lexer": "rust",
   "version": ""
  }
 },
 "nbformat": 4,
 "nbformat_minor": 5
}
